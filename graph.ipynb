{
 "cells": [
  {
   "cell_type": "code",
   "execution_count": 1,
   "metadata": {},
   "outputs": [
    {
     "name": "stdout",
     "output_type": "stream",
     "text": [
      "2.5\n"
     ]
    },
    {
     "data": {
      "text/html": [
       "        <script type=\"text/javascript\">\n",
       "        window.PlotlyConfig = {MathJaxConfig: 'local'};\n",
       "        if (window.MathJax) {MathJax.Hub.Config({SVG: {font: \"STIX-Web\"}});}\n",
       "        if (typeof require !== 'undefined') {\n",
       "        require.undef(\"plotly\");\n",
       "        requirejs.config({\n",
       "            paths: {\n",
       "                'plotly': ['https://cdn.plot.ly/plotly-latest.min']\n",
       "            }\n",
       "        });\n",
       "        require(['plotly'], function(Plotly) {\n",
       "            window._Plotly = Plotly;\n",
       "        });\n",
       "        }\n",
       "        </script>\n",
       "        "
      ]
     },
     "metadata": {},
     "output_type": "display_data"
    }
   ],
   "source": [
    "import pandas as pd\n",
    "import networkx as nx\n",
    "print(nx.__version__)\n",
    "import matplotlib.pyplot as plt\n",
    "import numpy as np\n",
    "\n",
    "%matplotlib inline\n",
    "\n",
    "from utils import *\n",
    "from plot_utils import *\n",
    "from metrics import *\n",
    "\n",
    "import warnings\n",
    "warnings.filterwarnings('ignore')\n",
    "\n",
    "init_notebook_mode(connected=True)"
   ]
  },
  {
   "cell_type": "markdown",
   "metadata": {},
   "source": [
    "# Load Dataset"
   ]
  },
  {
   "cell_type": "code",
   "execution_count": 415,
   "metadata": {},
   "outputs": [
    {
     "name": "stdout",
     "output_type": "stream",
     "text": [
      "Downloading matches data\n",
      "Downloading teams data\n",
      "Downloading players data\n",
      "Downloading competitions data\n",
      "Downloading events data\n",
      "Download completed\n"
     ]
    }
   ],
   "source": [
    "data_download()"
   ]
  },
  {
   "cell_type": "code",
   "execution_count": 416,
   "metadata": {},
   "outputs": [],
   "source": [
    "#specifica country, base è italy\n",
    "match_id2match, match_id2events, player_id2player, competition_id2competition, team_id2team = load_public_dataset(data_folder=data_folder, tournament = 'Italy')"
   ]
  },
  {
   "cell_type": "code",
   "execution_count": 473,
   "metadata": {},
   "outputs": [
    {
     "data": {
      "text/html": [
       "<div>\n",
       "<style scoped>\n",
       "    .dataframe tbody tr th:only-of-type {\n",
       "        vertical-align: middle;\n",
       "    }\n",
       "\n",
       "    .dataframe tbody tr th {\n",
       "        vertical-align: top;\n",
       "    }\n",
       "\n",
       "    .dataframe thead th {\n",
       "        text-align: right;\n",
       "    }\n",
       "</style>\n",
       "<table border=\"1\" class=\"dataframe\">\n",
       "  <thead>\n",
       "    <tr style=\"text-align: right;\">\n",
       "      <th></th>\n",
       "      <th>eventId</th>\n",
       "      <th>subEventName</th>\n",
       "      <th>tags</th>\n",
       "      <th>playerId</th>\n",
       "      <th>positions</th>\n",
       "      <th>matchId</th>\n",
       "      <th>eventName</th>\n",
       "      <th>teamId</th>\n",
       "      <th>matchPeriod</th>\n",
       "      <th>eventSec</th>\n",
       "      <th>subEventId</th>\n",
       "      <th>id</th>\n",
       "      <th>x_start</th>\n",
       "      <th>y_start</th>\n",
       "    </tr>\n",
       "  </thead>\n",
       "  <tbody>\n",
       "    <tr>\n",
       "      <th>2</th>\n",
       "      <td>1</td>\n",
       "      <td>Ground loose ball duel</td>\n",
       "      <td>[{'id': 702}, {'id': 1801}]</td>\n",
       "      <td>40726</td>\n",
       "      <td>[{'y': 59, 'x': 28}, {'y': 54, 'x': 25}]</td>\n",
       "      <td>2576105</td>\n",
       "      <td>Duel</td>\n",
       "      <td>3187</td>\n",
       "      <td>1H</td>\n",
       "      <td>6.787307</td>\n",
       "      <td>13</td>\n",
       "      <td>210904066</td>\n",
       "      <td>28</td>\n",
       "      <td>59</td>\n",
       "    </tr>\n",
       "    <tr>\n",
       "      <th>4</th>\n",
       "      <td>1</td>\n",
       "      <td>Air duel</td>\n",
       "      <td>[{'id': 703}, {'id': 1801}]</td>\n",
       "      <td>3300</td>\n",
       "      <td>[{'y': 54, 'x': 25}, {'y': 69, 'x': 30}]</td>\n",
       "      <td>2576105</td>\n",
       "      <td>Duel</td>\n",
       "      <td>3187</td>\n",
       "      <td>1H</td>\n",
       "      <td>7.423298</td>\n",
       "      <td>10</td>\n",
       "      <td>210904067</td>\n",
       "      <td>25</td>\n",
       "      <td>54</td>\n",
       "    </tr>\n",
       "    <tr>\n",
       "      <th>9</th>\n",
       "      <td>1</td>\n",
       "      <td>Ground attacking duel</td>\n",
       "      <td>[{'id': 701}, {'id': 1802}]</td>\n",
       "      <td>21385</td>\n",
       "      <td>[{'y': 23, 'x': 35}, {'y': 27, 'x': 40}]</td>\n",
       "      <td>2576105</td>\n",
       "      <td>Duel</td>\n",
       "      <td>3187</td>\n",
       "      <td>1H</td>\n",
       "      <td>14.085138</td>\n",
       "      <td>11</td>\n",
       "      <td>210904070</td>\n",
       "      <td>35</td>\n",
       "      <td>23</td>\n",
       "    </tr>\n",
       "    <tr>\n",
       "      <th>17</th>\n",
       "      <td>1</td>\n",
       "      <td>Ground loose ball duel</td>\n",
       "      <td>[{'id': 703}, {'id': 1801}]</td>\n",
       "      <td>25726</td>\n",
       "      <td>[{'y': 39, 'x': 40}, {'y': 47, 'x': 45}]</td>\n",
       "      <td>2576105</td>\n",
       "      <td>Duel</td>\n",
       "      <td>3187</td>\n",
       "      <td>1H</td>\n",
       "      <td>34.051004</td>\n",
       "      <td>13</td>\n",
       "      <td>210904073</td>\n",
       "      <td>40</td>\n",
       "      <td>39</td>\n",
       "    </tr>\n",
       "    <tr>\n",
       "      <th>19</th>\n",
       "      <td>1</td>\n",
       "      <td>Ground attacking duel</td>\n",
       "      <td>[{'id': 501}, {'id': 703}, {'id': 1801}]</td>\n",
       "      <td>25726</td>\n",
       "      <td>[{'y': 47, 'x': 45}, {'y': 50, 'x': 45}]</td>\n",
       "      <td>2576105</td>\n",
       "      <td>Duel</td>\n",
       "      <td>3187</td>\n",
       "      <td>1H</td>\n",
       "      <td>35.541999</td>\n",
       "      <td>11</td>\n",
       "      <td>210904074</td>\n",
       "      <td>45</td>\n",
       "      <td>47</td>\n",
       "    </tr>\n",
       "  </tbody>\n",
       "</table>\n",
       "</div>"
      ],
      "text/plain": [
       "    eventId            subEventName                                      tags  \\\n",
       "2         1  Ground loose ball duel               [{'id': 702}, {'id': 1801}]   \n",
       "4         1                Air duel               [{'id': 703}, {'id': 1801}]   \n",
       "9         1   Ground attacking duel               [{'id': 701}, {'id': 1802}]   \n",
       "17        1  Ground loose ball duel               [{'id': 703}, {'id': 1801}]   \n",
       "19        1   Ground attacking duel  [{'id': 501}, {'id': 703}, {'id': 1801}]   \n",
       "\n",
       "    playerId                                 positions  matchId eventName  \\\n",
       "2      40726  [{'y': 59, 'x': 28}, {'y': 54, 'x': 25}]  2576105      Duel   \n",
       "4       3300  [{'y': 54, 'x': 25}, {'y': 69, 'x': 30}]  2576105      Duel   \n",
       "9      21385  [{'y': 23, 'x': 35}, {'y': 27, 'x': 40}]  2576105      Duel   \n",
       "17     25726  [{'y': 39, 'x': 40}, {'y': 47, 'x': 45}]  2576105      Duel   \n",
       "19     25726  [{'y': 47, 'x': 45}, {'y': 50, 'x': 45}]  2576105      Duel   \n",
       "\n",
       "    teamId matchPeriod   eventSec subEventId         id  x_start  y_start  \n",
       "2     3187          1H   6.787307         13  210904066       28       59  \n",
       "4     3187          1H   7.423298         10  210904067       25       54  \n",
       "9     3187          1H  14.085138         11  210904070       35       23  \n",
       "17    3187          1H  34.051004         13  210904073       40       39  \n",
       "19    3187          1H  35.541999         11  210904074       45       47  "
      ]
     },
     "execution_count": 473,
     "metadata": {},
     "output_type": "execute_result"
    }
   ],
   "source": [
    "match_id = 2576105 # a single match in Italy\n",
    "match_events = match_id2events[match_id]\n",
    "match_label = match_id2match[match_id]['label']\n",
    "            \n",
    "match_df = pd.DataFrame(match_events)\n",
    "\n",
    "#prova un team\n",
    "match_df1 = match_df[match_df['teamId'] == 3187]\n",
    "\n",
    "match_df1['x_start'] = [x[0]['x'] for x in match_df1['positions']]\n",
    "match_df1['y_start'] = [x[0]['y'] for x in match_df1['positions']]\n",
    "match_df1.head()"
   ]
  },
  {
   "cell_type": "code",
   "execution_count": 474,
   "metadata": {},
   "outputs": [
    {
     "data": {
      "text/html": [
       "<div>\n",
       "<style scoped>\n",
       "    .dataframe tbody tr th:only-of-type {\n",
       "        vertical-align: middle;\n",
       "    }\n",
       "\n",
       "    .dataframe tbody tr th {\n",
       "        vertical-align: top;\n",
       "    }\n",
       "\n",
       "    .dataframe thead th {\n",
       "        text-align: right;\n",
       "    }\n",
       "</style>\n",
       "<table border=\"1\" class=\"dataframe\">\n",
       "  <thead>\n",
       "    <tr style=\"text-align: right;\">\n",
       "      <th></th>\n",
       "      <th>eventId</th>\n",
       "      <th>subEventName</th>\n",
       "      <th>tags</th>\n",
       "      <th>playerId</th>\n",
       "      <th>positions</th>\n",
       "      <th>matchId</th>\n",
       "      <th>eventName</th>\n",
       "      <th>teamId</th>\n",
       "      <th>matchPeriod</th>\n",
       "      <th>eventSec</th>\n",
       "      <th>subEventId</th>\n",
       "      <th>id</th>\n",
       "      <th>x_start</th>\n",
       "      <th>y_start</th>\n",
       "    </tr>\n",
       "  </thead>\n",
       "  <tbody>\n",
       "    <tr>\n",
       "      <th>0</th>\n",
       "      <td>8</td>\n",
       "      <td>Simple pass</td>\n",
       "      <td>[{'id': 1801}]</td>\n",
       "      <td>89186</td>\n",
       "      <td>[{'y': 49, 'x': 51}, {'y': 51, 'x': 30}]</td>\n",
       "      <td>2576105</td>\n",
       "      <td>Pass</td>\n",
       "      <td>3159</td>\n",
       "      <td>1H</td>\n",
       "      <td>1.306695</td>\n",
       "      <td>85</td>\n",
       "      <td>210903987</td>\n",
       "      <td>51</td>\n",
       "      <td>49</td>\n",
       "    </tr>\n",
       "    <tr>\n",
       "      <th>1</th>\n",
       "      <td>8</td>\n",
       "      <td>High pass</td>\n",
       "      <td>[{'id': 1801}]</td>\n",
       "      <td>20461</td>\n",
       "      <td>[{'y': 51, 'x': 30}, {'y': 41, 'x': 72}]</td>\n",
       "      <td>2576105</td>\n",
       "      <td>Pass</td>\n",
       "      <td>3159</td>\n",
       "      <td>1H</td>\n",
       "      <td>4.250663</td>\n",
       "      <td>83</td>\n",
       "      <td>210903988</td>\n",
       "      <td>30</td>\n",
       "      <td>51</td>\n",
       "    </tr>\n",
       "    <tr>\n",
       "      <th>3</th>\n",
       "      <td>1</td>\n",
       "      <td>Ground loose ball duel</td>\n",
       "      <td>[{'id': 702}, {'id': 1801}]</td>\n",
       "      <td>25437</td>\n",
       "      <td>[{'y': 41, 'x': 72}, {'y': 46, 'x': 75}]</td>\n",
       "      <td>2576105</td>\n",
       "      <td>Duel</td>\n",
       "      <td>3159</td>\n",
       "      <td>1H</td>\n",
       "      <td>7.329948</td>\n",
       "      <td>13</td>\n",
       "      <td>210903989</td>\n",
       "      <td>72</td>\n",
       "      <td>41</td>\n",
       "    </tr>\n",
       "    <tr>\n",
       "      <th>5</th>\n",
       "      <td>1</td>\n",
       "      <td>Air duel</td>\n",
       "      <td>[{'id': 701}, {'id': 1802}]</td>\n",
       "      <td>0</td>\n",
       "      <td>[{'y': 46, 'x': 75}, {'y': 31, 'x': 70}]</td>\n",
       "      <td>2576105</td>\n",
       "      <td>Duel</td>\n",
       "      <td>3159</td>\n",
       "      <td>1H</td>\n",
       "      <td>7.423298</td>\n",
       "      <td>10</td>\n",
       "      <td>210906034</td>\n",
       "      <td>75</td>\n",
       "      <td>46</td>\n",
       "    </tr>\n",
       "    <tr>\n",
       "      <th>6</th>\n",
       "      <td>8</td>\n",
       "      <td>Simple pass</td>\n",
       "      <td>[{'id': 1801}]</td>\n",
       "      <td>3323</td>\n",
       "      <td>[{'y': 31, 'x': 70}, {'y': 42, 'x': 69}]</td>\n",
       "      <td>2576105</td>\n",
       "      <td>Pass</td>\n",
       "      <td>3159</td>\n",
       "      <td>1H</td>\n",
       "      <td>9.752205</td>\n",
       "      <td>85</td>\n",
       "      <td>210903990</td>\n",
       "      <td>70</td>\n",
       "      <td>31</td>\n",
       "    </tr>\n",
       "  </tbody>\n",
       "</table>\n",
       "</div>"
      ],
      "text/plain": [
       "   eventId            subEventName                         tags  playerId  \\\n",
       "0        8             Simple pass               [{'id': 1801}]     89186   \n",
       "1        8               High pass               [{'id': 1801}]     20461   \n",
       "3        1  Ground loose ball duel  [{'id': 702}, {'id': 1801}]     25437   \n",
       "5        1                Air duel  [{'id': 701}, {'id': 1802}]         0   \n",
       "6        8             Simple pass               [{'id': 1801}]      3323   \n",
       "\n",
       "                                  positions  matchId eventName  teamId  \\\n",
       "0  [{'y': 49, 'x': 51}, {'y': 51, 'x': 30}]  2576105      Pass    3159   \n",
       "1  [{'y': 51, 'x': 30}, {'y': 41, 'x': 72}]  2576105      Pass    3159   \n",
       "3  [{'y': 41, 'x': 72}, {'y': 46, 'x': 75}]  2576105      Duel    3159   \n",
       "5  [{'y': 46, 'x': 75}, {'y': 31, 'x': 70}]  2576105      Duel    3159   \n",
       "6  [{'y': 31, 'x': 70}, {'y': 42, 'x': 69}]  2576105      Pass    3159   \n",
       "\n",
       "  matchPeriod  eventSec subEventId         id  x_start  y_start  \n",
       "0          1H  1.306695         85  210903987       51       49  \n",
       "1          1H  4.250663         83  210903988       30       51  \n",
       "3          1H  7.329948         13  210903989       72       41  \n",
       "5          1H  7.423298         10  210906034       75       46  \n",
       "6          1H  9.752205         85  210903990       70       31  "
      ]
     },
     "execution_count": 474,
     "metadata": {},
     "output_type": "execute_result"
    }
   ],
   "source": [
    "match_id = 2576105 # a single match in Italy\n",
    "match_events = match_id2events[match_id]\n",
    "match_label = match_id2match[match_id]['label']\n",
    "            \n",
    "match_df = pd.DataFrame(match_events)\n",
    "\n",
    "#prova un team\n",
    "match_df2 = match_df[match_df['teamId'] == 3159]\n",
    "\n",
    "match_df2['x_start'] = [x[0]['x'] for x in match_df2['positions']]\n",
    "match_df2['y_start'] = [x[0]['y'] for x in match_df2['positions']]\n",
    "match_df2.head()"
   ]
  },
  {
   "cell_type": "code",
   "execution_count": 475,
   "metadata": {},
   "outputs": [],
   "source": [
    "#DIZIONARIO player:posizione media\n",
    "avg_position = round(match_df1.groupby('playerId')['x_start','y_start'].mean(), 2)\n",
    "avg_position['pos'] = list(zip(avg_position.x_start, avg_position.y_start)) \n",
    "avg_position.drop(['x_start', 'y_start'], axis = 1, inplace=True)\n",
    "avg_position['playerId'] = avg_position.index\n",
    "avg_position = dict(zip(avg_position.playerId, avg_position.pos))"
   ]
  },
  {
   "cell_type": "code",
   "execution_count": 476,
   "metadata": {},
   "outputs": [],
   "source": [
    "avg = {}\n",
    "for node, pos in avg_position.items():\n",
    "    if node == 0:\n",
    "        pass\n",
    "    else:\n",
    "        avg[player_id2player[node]['shortName'].encode('ascii', 'strict').decode('unicode-escape')] = pos"
   ]
  },
  {
   "cell_type": "code",
   "execution_count": 477,
   "metadata": {},
   "outputs": [
    {
     "data": {
      "text/plain": [
       "{'D. Mertens': (75.81, 48.48),\n",
       " 'Albiol': (47.23, 66.62),\n",
       " 'José Callejón': (73.24, 62.8),\n",
       " 'Pepe Reina': (9.04, 38.6),\n",
       " 'E. Hysaj': (58.99, 76.99),\n",
       " 'M. Hamšík': (63.98, 36.44),\n",
       " 'C. Maggio': (64.78, 88.9),\n",
       " 'Jorginho': (57.97, 52.24),\n",
       " 'L. Insigne': (72.36, 24.49),\n",
       " 'Mário Rui': (66.6, 13.87),\n",
       " 'K. Koulibaly': (47.95, 33.77),\n",
       " 'Allan': (61.9, 70.47),\n",
       " 'P. Zieliński': (68.09, 73.09),\n",
       " 'A. Ounas': (78.44, 88.3)}"
      ]
     },
     "execution_count": 477,
     "metadata": {},
     "output_type": "execute_result"
    }
   ],
   "source": [
    "#dizionario nome giocatore : posizione media\n",
    "avg"
   ]
  },
  {
   "cell_type": "code",
   "execution_count": 478,
   "metadata": {},
   "outputs": [],
   "source": [
    "avg_position2 = round(match_df2.groupby('playerId')['x_start','y_start'].mean(), 2)\n",
    "avg_position2['pos'] = list(zip(avg_position2.x_start, avg_position2.y_start)) \n",
    "avg_position2.drop(['x_start', 'y_start'], axis = 1, inplace=True)\n",
    "avg_position2['playerId'] = avg_position2.index\n",
    "avg_position2 = dict(zip(avg_position2.playerId, avg_position2.pos))"
   ]
  },
  {
   "cell_type": "code",
   "execution_count": 479,
   "metadata": {},
   "outputs": [],
   "source": [
    "avg2 = {}\n",
    "for node, pos in avg_position2.items():\n",
    "    if node == 0:\n",
    "        pass\n",
    "    else:\n",
    "        avg2[player_id2player[node]['shortName'].encode('ascii', 'strict').decode('unicode-escape')] = pos"
   ]
  },
  {
   "cell_type": "code",
   "execution_count": 480,
   "metadata": {},
   "outputs": [
    {
     "data": {
      "text/plain": [
       "{'S. Khedira': (38.89, 69.32),\n",
       " 'G. Higuaín': (52.35, 49.3),\n",
       " 'M. De Sciglio': (25.58, 83.39),\n",
       " 'M. Pjanić': (39.88, 47.13),\n",
       " 'G. Buffon': (48.02, 71.45),\n",
       " 'A. Barzagli': (31.67, 78.33),\n",
       " 'G. Chiellini': (24.97, 29.63),\n",
       " 'C. Marchisio': (16.33, 54.33),\n",
       " 'M. Benatia': (20.46, 65.8),\n",
       " 'K. Asamoah': (32.79, 12.45),\n",
       " 'J. Cuadrado': (44.0, 87.75),\n",
       " 'B. Matuidi': (47.2, 18.04),\n",
       " 'P. Dybala': (44.69, 51.02),\n",
       " 'Douglas Costa': (46.06, 83.61)}"
      ]
     },
     "execution_count": 480,
     "metadata": {},
     "output_type": "execute_result"
    }
   ],
   "source": [
    "avg2"
   ]
  },
  {
   "cell_type": "markdown",
   "metadata": {},
   "source": [
    "# Graph"
   ]
  },
  {
   "cell_type": "code",
   "execution_count": 481,
   "metadata": {},
   "outputs": [],
   "source": [
    "def passing_networks(match_id=2576105):\n",
    "    \"\"\"\n",
    "    Construct the passing networks of the teams in the match.\n",
    "    \n",
    "    Parameters\n",
    "    ----------\n",
    "    match_id : int, optional\n",
    "        identifier of the match to plot\n",
    "        \n",
    "    Returns\n",
    "    -------\n",
    "    tuple\n",
    "        the two constructed networks, as networkx objects.\n",
    "    \"\"\"\n",
    "    \n",
    "    # take the names of the two teams of the match\n",
    "    match_label = match_id2match[match_id]['label']\n",
    "    team1_name = match_label.split('-')[0].split(' ')[0]\n",
    "    team2_name = match_label.split('-')[1].split(' ')[1].split(',')[0]\n",
    "    \n",
    "    # take all the events of the match\n",
    "    match_events = []\n",
    "    for event in match_id2events[match_id]:\n",
    "        if event['eventName'] == 'Pass':\n",
    "            match_events.append(event)\n",
    "\n",
    "    match_events_df = pd.DataFrame(match_events)\n",
    "    first_half_max_duration = np.max(match_events_df[match_events_df['matchPeriod'] == '1H']['eventSec'])\n",
    "\n",
    "    # sum 1H time end to all the time in 2H\n",
    "    for event in match_events:\n",
    "        if event['matchPeriod'] == '2H':\n",
    "            event['eventSec'] += first_half_max_duration\n",
    "    \n",
    "    team2pass2weight = defaultdict(lambda: defaultdict(int))\n",
    "    send = []\n",
    "    receive = []\n",
    "    for event, next_event, next_next_event in zip(match_events, match_events[1:], match_events[2:]):\n",
    "        try:\n",
    "            if event['eventName'] == 'Pass' and ACCURATE_PASS in [tag['id'] for tag in event['tags']]:\n",
    "                sender = player_id2player[event['playerId']]['shortName'].encode('ascii', 'strict').decode('unicode-escape')\n",
    "                send.append(sender)\n",
    "                # case of duel\n",
    "                if next_event['eventName'] == 'Duel':\n",
    "                    # if the next event of from a playero of the same tema\n",
    "                    if next_event['teamId'] == event['teamId']:\n",
    "                        receiver = player_id2player[next_event['playerId']]['shortName'].encode('ascii', 'strict').decode('unicode-escape')\n",
    "                        team2pass2weight[team_id2team[event['teamId']]['name']][(sender, receiver)] += 1\n",
    "                        receive.append(receive)\n",
    "                    else:\n",
    "                        receiver = player_id2player[next_next_event['playerId']]['shortName'].encode('ascii', 'strict').decode('unicode-escape')\n",
    "                        team2pass2weight[team_id2team[event['teamId']]['name']][(sender, receiver)] += 1\n",
    "                        receive.append(receive)\n",
    "                else:  # any other event \n",
    "                    if next_event['teamId'] == event['teamId']:\n",
    "                        receiver = player_id2player[next_event['playerId']]['shortName'].encode('ascii', 'strict').decode('unicode-escape')\n",
    "                        team2pass2weight[team_id2team[event['teamId']]['name']][(sender, receiver)] += 1\n",
    "                        receive.append(receive)\n",
    "        except KeyError:\n",
    "            pass\n",
    "    # craete networkx graphs\n",
    "    G1, G2 = nx.DiGraph(team=team1_name), nx.DiGraph(team=team2_name)\n",
    "    for (sender, receiver), weight in team2pass2weight[team1_name].items():\n",
    "        G1.add_edge(sender, receiver, weight=weight)\n",
    "    for (sender, receiver), weight in team2pass2weight[team2_name].items():\n",
    "        G2.add_edge(sender, receiver, weight=weight)    \n",
    "    \n",
    "    return G1, G2"
   ]
  },
  {
   "cell_type": "code",
   "execution_count": 488,
   "metadata": {},
   "outputs": [
    {
     "ename": "TypeError",
     "evalue": "'NodeView' object does not support item assignment",
     "output_type": "error",
     "traceback": [
      "\u001b[1;31m---------------------------------------------------------------------------\u001b[0m",
      "\u001b[1;31mTypeError\u001b[0m                                 Traceback (most recent call last)",
      "\u001b[1;32m<ipython-input-488-d4075519055d>\u001b[0m in \u001b[0;36m<module>\u001b[1;34m\u001b[0m\n\u001b[0;32m      1\u001b[0m \u001b[1;32mfor\u001b[0m \u001b[0mnode\u001b[0m\u001b[1;33m,\u001b[0m \u001b[0mpos\u001b[0m \u001b[1;32min\u001b[0m \u001b[0mavg\u001b[0m\u001b[1;33m.\u001b[0m\u001b[0mitems\u001b[0m\u001b[1;33m(\u001b[0m\u001b[1;33m)\u001b[0m\u001b[1;33m:\u001b[0m \u001b[1;31m#Add Node positions\u001b[0m\u001b[1;33m\u001b[0m\u001b[1;33m\u001b[0m\u001b[0m\n\u001b[1;32m----> 2\u001b[1;33m     \u001b[0mG1\u001b[0m\u001b[1;33m.\u001b[0m\u001b[0mnodes\u001b[0m\u001b[1;33m[\u001b[0m\u001b[0mnode\u001b[0m\u001b[1;33m]\u001b[0m \u001b[1;33m=\u001b[0m \u001b[0mnode\u001b[0m\u001b[1;33m\u001b[0m\u001b[1;33m\u001b[0m\u001b[0m\n\u001b[0m",
      "\u001b[1;31mTypeError\u001b[0m: 'NodeView' object does not support item assignment"
     ]
    }
   ],
   "source": [
    "#controlla versionen NX\n",
    "for node, pos in avg.items(): #Add Node positions\n",
    "    G1.nodes[node] = node"
   ]
  },
  {
   "cell_type": "code",
   "execution_count": 483,
   "metadata": {},
   "outputs": [
    {
     "data": {
      "text/plain": [
       "{'A. Ounas': (78.44, 88.3)}"
      ]
     },
     "execution_count": 483,
     "metadata": {},
     "output_type": "execute_result"
    }
   ],
   "source": [
    "nx.get_node_attributes(G1, pos)"
   ]
  },
  {
   "cell_type": "code",
   "execution_count": 461,
   "metadata": {},
   "outputs": [
    {
     "name": "stdout",
     "output_type": "stream",
     "text": [
      "S. Khedira\n",
      "G. Higuaín\n",
      "M. De Sciglio\n",
      "M. Pjanić\n",
      "G. Buffon\n",
      "A. Barzagli\n",
      "G. Chiellini\n",
      "C. Marchisio\n",
      "M. Benatia\n",
      "K. Asamoah\n",
      "J. Cuadrado\n",
      "B. Matuidi\n",
      "P. Dybala\n",
      "Douglas Costa\n"
     ]
    }
   ],
   "source": [
    "for node, pos in avg2.items(): #Add Node positions\n",
    "    G2.nodes[node][pos] = pos"
   ]
  },
  {
   "cell_type": "code",
   "execution_count": 460,
   "metadata": {},
   "outputs": [
    {
     "data": {
      "text/plain": [
       "{'Douglas Costa': (46.06, 83.61)}"
      ]
     },
     "execution_count": 460,
     "metadata": {},
     "output_type": "execute_result"
    }
   ],
   "source": [
    "nx.get_node_attributes(G2, pos)"
   ]
  },
  {
   "cell_type": "code",
   "execution_count": 456,
   "metadata": {},
   "outputs": [],
   "source": [
    "def plot_passing_networks(G1, G2):\n",
    "    \"\"\"\n",
    "    Plot the two passing networks in input.\n",
    "    \n",
    "    Parameters\n",
    "    ----------\n",
    "    G1 : networkx object\n",
    "        the object representing the first network\n",
    "        \n",
    "    G2 : networkx object\n",
    "        the object representing the second network\n",
    "    \"\"\"\n",
    "    #fig, ax = pitch_graph_zone()\n",
    "    \n",
    "    #pos1 = nx.spring_layout(G1, 4)\n",
    "    #pos2 = nx.spring_layout(G2, 4)\n",
    "    nome2degree = dict(G1.degree)\n",
    "    nx.draw(G1, pos = avg1, nodelist=list(nome2degree.keys()), \n",
    "            node_size=[deg * 50 for deg in nome2degree.values()], \n",
    "            node_color='red', edge_color='black',\n",
    "            with_labels=True, font_weight='bold', alpha=0.75)\n",
    "    plt.show()\n",
    "    \n",
    "    nome2degree = dict(G2.degree)\n",
    "    nx.draw(G2, pos = avg2, nodelist=list(nome2degree.keys()), \n",
    "            node_size=[deg * 50 for deg in nome2degree.values()],\n",
    "            node_color='blue', edge_color='black',\n",
    "            with_labels=True, font_weight='bold', alpha=0.75)\n",
    "    plt.show()"
   ]
  },
  {
   "cell_type": "code",
   "execution_count": 457,
   "metadata": {},
   "outputs": [
    {
     "ename": "KeyError",
     "evalue": "(78.44, 88.3)",
     "output_type": "error",
     "traceback": [
      "\u001b[1;31m---------------------------------------------------------------------------\u001b[0m",
      "\u001b[1;31mKeyError\u001b[0m                                  Traceback (most recent call last)",
      "\u001b[1;32m<ipython-input-457-b56f90cf29d2>\u001b[0m in \u001b[0;36m<module>\u001b[1;34m\u001b[0m\n\u001b[0;32m      1\u001b[0m \u001b[0mnome2degree\u001b[0m \u001b[1;33m=\u001b[0m \u001b[0mdict\u001b[0m\u001b[1;33m(\u001b[0m\u001b[0mG1\u001b[0m\u001b[1;33m.\u001b[0m\u001b[0mdegree\u001b[0m\u001b[1;33m)\u001b[0m\u001b[1;33m\u001b[0m\u001b[1;33m\u001b[0m\u001b[0m\n\u001b[0;32m      2\u001b[0m \u001b[1;33m\u001b[0m\u001b[0m\n\u001b[1;32m----> 3\u001b[1;33m nx.draw(G1, pos = G1[pos], nodelist=list(nome2degree.keys()), \n\u001b[0m\u001b[0;32m      4\u001b[0m             \u001b[0mnode_size\u001b[0m\u001b[1;33m=\u001b[0m\u001b[1;33m[\u001b[0m\u001b[0mdeg\u001b[0m \u001b[1;33m*\u001b[0m \u001b[1;36m50\u001b[0m \u001b[1;32mfor\u001b[0m \u001b[0mdeg\u001b[0m \u001b[1;32min\u001b[0m \u001b[0mnome2degree\u001b[0m\u001b[1;33m.\u001b[0m\u001b[0mvalues\u001b[0m\u001b[1;33m(\u001b[0m\u001b[1;33m)\u001b[0m\u001b[1;33m]\u001b[0m\u001b[1;33m,\u001b[0m\u001b[1;33m\u001b[0m\u001b[1;33m\u001b[0m\u001b[0m\n\u001b[0;32m      5\u001b[0m             \u001b[0mnode_color\u001b[0m\u001b[1;33m=\u001b[0m\u001b[1;34m'red'\u001b[0m\u001b[1;33m,\u001b[0m \u001b[0medge_color\u001b[0m\u001b[1;33m=\u001b[0m\u001b[1;34m'black'\u001b[0m\u001b[1;33m,\u001b[0m\u001b[1;33m\u001b[0m\u001b[1;33m\u001b[0m\u001b[0m\n",
      "\u001b[1;32m~\\Anaconda3\\lib\\site-packages\\networkx\\classes\\graph.py\u001b[0m in \u001b[0;36m__getitem__\u001b[1;34m(self, n)\u001b[0m\n\u001b[0;32m    463\u001b[0m         \u001b[0mAtlasView\u001b[0m\u001b[1;33m(\u001b[0m\u001b[1;33m{\u001b[0m\u001b[1;36m1\u001b[0m\u001b[1;33m:\u001b[0m \u001b[1;33m{\u001b[0m\u001b[1;33m}\u001b[0m\u001b[1;33m}\u001b[0m\u001b[1;33m)\u001b[0m\u001b[1;33m\u001b[0m\u001b[1;33m\u001b[0m\u001b[0m\n\u001b[0;32m    464\u001b[0m         \"\"\"\n\u001b[1;32m--> 465\u001b[1;33m         \u001b[1;32mreturn\u001b[0m \u001b[0mself\u001b[0m\u001b[1;33m.\u001b[0m\u001b[0madj\u001b[0m\u001b[1;33m[\u001b[0m\u001b[0mn\u001b[0m\u001b[1;33m]\u001b[0m\u001b[1;33m\u001b[0m\u001b[1;33m\u001b[0m\u001b[0m\n\u001b[0m\u001b[0;32m    466\u001b[0m \u001b[1;33m\u001b[0m\u001b[0m\n\u001b[0;32m    467\u001b[0m     \u001b[1;32mdef\u001b[0m \u001b[0madd_node\u001b[0m\u001b[1;33m(\u001b[0m\u001b[0mself\u001b[0m\u001b[1;33m,\u001b[0m \u001b[0mnode_for_adding\u001b[0m\u001b[1;33m,\u001b[0m \u001b[1;33m**\u001b[0m\u001b[0mattr\u001b[0m\u001b[1;33m)\u001b[0m\u001b[1;33m:\u001b[0m\u001b[1;33m\u001b[0m\u001b[1;33m\u001b[0m\u001b[0m\n",
      "\u001b[1;32m~\\Anaconda3\\lib\\site-packages\\networkx\\classes\\coreviews.py\u001b[0m in \u001b[0;36m__getitem__\u001b[1;34m(self, name)\u001b[0m\n\u001b[0;32m     77\u001b[0m \u001b[1;33m\u001b[0m\u001b[0m\n\u001b[0;32m     78\u001b[0m     \u001b[1;32mdef\u001b[0m \u001b[0m__getitem__\u001b[0m\u001b[1;33m(\u001b[0m\u001b[0mself\u001b[0m\u001b[1;33m,\u001b[0m \u001b[0mname\u001b[0m\u001b[1;33m)\u001b[0m\u001b[1;33m:\u001b[0m\u001b[1;33m\u001b[0m\u001b[1;33m\u001b[0m\u001b[0m\n\u001b[1;32m---> 79\u001b[1;33m         \u001b[1;32mreturn\u001b[0m \u001b[0mAtlasView\u001b[0m\u001b[1;33m(\u001b[0m\u001b[0mself\u001b[0m\u001b[1;33m.\u001b[0m\u001b[0m_atlas\u001b[0m\u001b[1;33m[\u001b[0m\u001b[0mname\u001b[0m\u001b[1;33m]\u001b[0m\u001b[1;33m)\u001b[0m\u001b[1;33m\u001b[0m\u001b[1;33m\u001b[0m\u001b[0m\n\u001b[0m\u001b[0;32m     80\u001b[0m \u001b[1;33m\u001b[0m\u001b[0m\n\u001b[0;32m     81\u001b[0m     \u001b[1;32mdef\u001b[0m \u001b[0mcopy\u001b[0m\u001b[1;33m(\u001b[0m\u001b[0mself\u001b[0m\u001b[1;33m)\u001b[0m\u001b[1;33m:\u001b[0m\u001b[1;33m\u001b[0m\u001b[1;33m\u001b[0m\u001b[0m\n",
      "\u001b[1;31mKeyError\u001b[0m: (78.44, 88.3)"
     ]
    }
   ],
   "source": [
    "nome2degree = dict(G1.degree)\n",
    "\n",
    "nx.draw(G1, pos = G1[pos], nodelist=list(nome2degree.keys()), \n",
    "            node_size=[deg * 50 for deg in nome2degree.values()], \n",
    "            node_color='red', edge_color='black',\n",
    "            with_labels=True, font_weight='bold', alpha=0.75)\n",
    "plt.show()"
   ]
  },
  {
   "cell_type": "code",
   "execution_count": 434,
   "metadata": {},
   "outputs": [
    {
     "data": {
      "text/plain": [
       "{}"
      ]
     },
     "execution_count": 434,
     "metadata": {},
     "output_type": "execute_result"
    }
   ],
   "source": [
    "pos = nx.get_node_attributes(G1,'pos')\n",
    "pos"
   ]
  },
  {
   "cell_type": "code",
   "execution_count": 431,
   "metadata": {},
   "outputs": [
    {
     "ename": "KeyError",
     "evalue": "(46.06, 83.61)",
     "output_type": "error",
     "traceback": [
      "\u001b[1;31m---------------------------------------------------------------------------\u001b[0m",
      "\u001b[1;31mKeyError\u001b[0m                                  Traceback (most recent call last)",
      "\u001b[1;32m<ipython-input-431-19c605e3626b>\u001b[0m in \u001b[0;36m<module>\u001b[1;34m\u001b[0m\n\u001b[1;32m----> 1\u001b[1;33m \u001b[0mG1\u001b[0m\u001b[1;33m[\u001b[0m\u001b[0mpos\u001b[0m\u001b[1;33m]\u001b[0m\u001b[1;33m\u001b[0m\u001b[1;33m\u001b[0m\u001b[0m\n\u001b[0m",
      "\u001b[1;32m~\\Anaconda3\\lib\\site-packages\\networkx\\classes\\graph.py\u001b[0m in \u001b[0;36m__getitem__\u001b[1;34m(self, n)\u001b[0m\n\u001b[0;32m    463\u001b[0m         \u001b[0mAtlasView\u001b[0m\u001b[1;33m(\u001b[0m\u001b[1;33m{\u001b[0m\u001b[1;36m1\u001b[0m\u001b[1;33m:\u001b[0m \u001b[1;33m{\u001b[0m\u001b[1;33m}\u001b[0m\u001b[1;33m}\u001b[0m\u001b[1;33m)\u001b[0m\u001b[1;33m\u001b[0m\u001b[1;33m\u001b[0m\u001b[0m\n\u001b[0;32m    464\u001b[0m         \"\"\"\n\u001b[1;32m--> 465\u001b[1;33m         \u001b[1;32mreturn\u001b[0m \u001b[0mself\u001b[0m\u001b[1;33m.\u001b[0m\u001b[0madj\u001b[0m\u001b[1;33m[\u001b[0m\u001b[0mn\u001b[0m\u001b[1;33m]\u001b[0m\u001b[1;33m\u001b[0m\u001b[1;33m\u001b[0m\u001b[0m\n\u001b[0m\u001b[0;32m    466\u001b[0m \u001b[1;33m\u001b[0m\u001b[0m\n\u001b[0;32m    467\u001b[0m     \u001b[1;32mdef\u001b[0m \u001b[0madd_node\u001b[0m\u001b[1;33m(\u001b[0m\u001b[0mself\u001b[0m\u001b[1;33m,\u001b[0m \u001b[0mnode_for_adding\u001b[0m\u001b[1;33m,\u001b[0m \u001b[1;33m**\u001b[0m\u001b[0mattr\u001b[0m\u001b[1;33m)\u001b[0m\u001b[1;33m:\u001b[0m\u001b[1;33m\u001b[0m\u001b[1;33m\u001b[0m\u001b[0m\n",
      "\u001b[1;32m~\\Anaconda3\\lib\\site-packages\\networkx\\classes\\coreviews.py\u001b[0m in \u001b[0;36m__getitem__\u001b[1;34m(self, name)\u001b[0m\n\u001b[0;32m     77\u001b[0m \u001b[1;33m\u001b[0m\u001b[0m\n\u001b[0;32m     78\u001b[0m     \u001b[1;32mdef\u001b[0m \u001b[0m__getitem__\u001b[0m\u001b[1;33m(\u001b[0m\u001b[0mself\u001b[0m\u001b[1;33m,\u001b[0m \u001b[0mname\u001b[0m\u001b[1;33m)\u001b[0m\u001b[1;33m:\u001b[0m\u001b[1;33m\u001b[0m\u001b[1;33m\u001b[0m\u001b[0m\n\u001b[1;32m---> 79\u001b[1;33m         \u001b[1;32mreturn\u001b[0m \u001b[0mAtlasView\u001b[0m\u001b[1;33m(\u001b[0m\u001b[0mself\u001b[0m\u001b[1;33m.\u001b[0m\u001b[0m_atlas\u001b[0m\u001b[1;33m[\u001b[0m\u001b[0mname\u001b[0m\u001b[1;33m]\u001b[0m\u001b[1;33m)\u001b[0m\u001b[1;33m\u001b[0m\u001b[1;33m\u001b[0m\u001b[0m\n\u001b[0m\u001b[0;32m     80\u001b[0m \u001b[1;33m\u001b[0m\u001b[0m\n\u001b[0;32m     81\u001b[0m     \u001b[1;32mdef\u001b[0m \u001b[0mcopy\u001b[0m\u001b[1;33m(\u001b[0m\u001b[0mself\u001b[0m\u001b[1;33m)\u001b[0m\u001b[1;33m:\u001b[0m\u001b[1;33m\u001b[0m\u001b[1;33m\u001b[0m\u001b[0m\n",
      "\u001b[1;31mKeyError\u001b[0m: (46.06, 83.61)"
     ]
    }
   ],
   "source": [
    "G1[pos]"
   ]
  },
  {
   "cell_type": "code",
   "execution_count": 399,
   "metadata": {},
   "outputs": [
    {
     "data": {
      "text/plain": [
       "{'K. Koulibaly': (47.95, 33.77),\n",
       " 'Allan': (61.9, 70.47),\n",
       " 'D. Mertens': (75.81, 48.48),\n",
       " 'M. Hamšík': (63.98, 36.44),\n",
       " 'L. Insigne': (72.36, 24.49),\n",
       " 'Mário Rui': (66.6, 13.87),\n",
       " 'Jorginho': (57.97, 52.24),\n",
       " 'Pepe Reina': (9.04, 38.6),\n",
       " 'Albiol': (47.23, 66.62),\n",
       " 'E. Hysaj': (58.99, 76.99),\n",
       " 'José Callejón': (73.24, 62.8),\n",
       " 'P. Zieliński': (68.09, 73.09),\n",
       " 'C. Maggio': (64.78, 88.9),\n",
       " 'A. Ounas': (78.44, 88.3)}"
      ]
     },
     "execution_count": 399,
     "metadata": {},
     "output_type": "execute_result"
    }
   ],
   "source": [
    "nx.get_node_attributes(G1,'pos')"
   ]
  },
  {
   "cell_type": "code",
   "execution_count": 397,
   "metadata": {},
   "outputs": [
    {
     "data": {
      "text/plain": [
       "{'P. Dybala': (44.69, 51.02),\n",
       " 'G. Chiellini': (24.97, 29.63),\n",
       " 'G. Higuaín': (52.35, 49.3),\n",
       " 'M. Pjanić': (39.88, 47.13),\n",
       " 'S. Khedira': (38.89, 69.32),\n",
       " 'M. De Sciglio': (25.58, 83.39),\n",
       " 'K. Asamoah': (32.79, 12.45),\n",
       " 'M. Benatia': (20.46, 65.8),\n",
       " 'G. Buffon': (48.02, 71.45),\n",
       " 'Douglas Costa': (46.06, 83.61),\n",
       " 'B. Matuidi': (47.2, 18.04),\n",
       " 'C. Marchisio': (16.33, 54.33),\n",
       " 'J. Cuadrado': (44.0, 87.75),\n",
       " 'A. Barzagli': (31.67, 78.33)}"
      ]
     },
     "execution_count": 397,
     "metadata": {},
     "output_type": "execute_result"
    }
   ],
   "source": [
    "nx.get_node_attributes(G2,'pos')"
   ]
  },
  {
   "cell_type": "code",
   "execution_count": 401,
   "metadata": {},
   "outputs": [],
   "source": [
    "G1, G2 = passing_networks(match_id=2576105)"
   ]
  },
  {
   "cell_type": "code",
   "execution_count": 402,
   "metadata": {},
   "outputs": [
    {
     "ename": "NetworkXError",
     "evalue": "Node 'K. Koulibaly' has no position.",
     "output_type": "error",
     "traceback": [
      "\u001b[1;31m---------------------------------------------------------------------------\u001b[0m",
      "\u001b[1;31mKeyError\u001b[0m                                  Traceback (most recent call last)",
      "\u001b[1;32m~\\Anaconda3\\lib\\site-packages\\networkx\\drawing\\nx_pylab.py\u001b[0m in \u001b[0;36mdraw_networkx_nodes\u001b[1;34m(G, pos, nodelist, node_size, node_color, node_shape, alpha, cmap, vmin, vmax, ax, linewidths, edgecolors, label)\u001b[0m\n\u001b[0;32m    455\u001b[0m     \u001b[1;32mtry\u001b[0m\u001b[1;33m:\u001b[0m\u001b[1;33m\u001b[0m\u001b[1;33m\u001b[0m\u001b[0m\n\u001b[1;32m--> 456\u001b[1;33m         \u001b[0mxy\u001b[0m \u001b[1;33m=\u001b[0m \u001b[0mnp\u001b[0m\u001b[1;33m.\u001b[0m\u001b[0masarray\u001b[0m\u001b[1;33m(\u001b[0m\u001b[1;33m[\u001b[0m\u001b[0mpos\u001b[0m\u001b[1;33m[\u001b[0m\u001b[0mv\u001b[0m\u001b[1;33m]\u001b[0m \u001b[1;32mfor\u001b[0m \u001b[0mv\u001b[0m \u001b[1;32min\u001b[0m \u001b[0mnodelist\u001b[0m\u001b[1;33m]\u001b[0m\u001b[1;33m)\u001b[0m\u001b[1;33m\u001b[0m\u001b[1;33m\u001b[0m\u001b[0m\n\u001b[0m\u001b[0;32m    457\u001b[0m     \u001b[1;32mexcept\u001b[0m \u001b[0mKeyError\u001b[0m \u001b[1;32mas\u001b[0m \u001b[0me\u001b[0m\u001b[1;33m:\u001b[0m\u001b[1;33m\u001b[0m\u001b[1;33m\u001b[0m\u001b[0m\n",
      "\u001b[1;32m~\\Anaconda3\\lib\\site-packages\\networkx\\drawing\\nx_pylab.py\u001b[0m in \u001b[0;36m<listcomp>\u001b[1;34m(.0)\u001b[0m\n\u001b[0;32m    455\u001b[0m     \u001b[1;32mtry\u001b[0m\u001b[1;33m:\u001b[0m\u001b[1;33m\u001b[0m\u001b[1;33m\u001b[0m\u001b[0m\n\u001b[1;32m--> 456\u001b[1;33m         \u001b[0mxy\u001b[0m \u001b[1;33m=\u001b[0m \u001b[0mnp\u001b[0m\u001b[1;33m.\u001b[0m\u001b[0masarray\u001b[0m\u001b[1;33m(\u001b[0m\u001b[1;33m[\u001b[0m\u001b[0mpos\u001b[0m\u001b[1;33m[\u001b[0m\u001b[0mv\u001b[0m\u001b[1;33m]\u001b[0m \u001b[1;32mfor\u001b[0m \u001b[0mv\u001b[0m \u001b[1;32min\u001b[0m \u001b[0mnodelist\u001b[0m\u001b[1;33m]\u001b[0m\u001b[1;33m)\u001b[0m\u001b[1;33m\u001b[0m\u001b[1;33m\u001b[0m\u001b[0m\n\u001b[0m\u001b[0;32m    457\u001b[0m     \u001b[1;32mexcept\u001b[0m \u001b[0mKeyError\u001b[0m \u001b[1;32mas\u001b[0m \u001b[0me\u001b[0m\u001b[1;33m:\u001b[0m\u001b[1;33m\u001b[0m\u001b[1;33m\u001b[0m\u001b[0m\n",
      "\u001b[1;31mKeyError\u001b[0m: 'K. Koulibaly'",
      "\nThe above exception was the direct cause of the following exception:\n",
      "\u001b[1;31mNetworkXError\u001b[0m                             Traceback (most recent call last)",
      "\u001b[1;32m<ipython-input-402-d2e5ac0ad53b>\u001b[0m in \u001b[0;36m<module>\u001b[1;34m\u001b[0m\n\u001b[1;32m----> 1\u001b[1;33m \u001b[0mplot_passing_networks\u001b[0m\u001b[1;33m(\u001b[0m\u001b[0mG1\u001b[0m\u001b[1;33m,\u001b[0m \u001b[0mG2\u001b[0m\u001b[1;33m)\u001b[0m\u001b[1;33m\u001b[0m\u001b[1;33m\u001b[0m\u001b[0m\n\u001b[0m",
      "\u001b[1;32m<ipython-input-400-3af98bddfbfe>\u001b[0m in \u001b[0;36mplot_passing_networks\u001b[1;34m(G1, G2)\u001b[0m\n\u001b[0;32m     19\u001b[0m             \u001b[0mnode_size\u001b[0m\u001b[1;33m=\u001b[0m\u001b[1;33m[\u001b[0m\u001b[0mdeg\u001b[0m \u001b[1;33m*\u001b[0m \u001b[1;36m50\u001b[0m \u001b[1;32mfor\u001b[0m \u001b[0mdeg\u001b[0m \u001b[1;32min\u001b[0m \u001b[0mnome2degree\u001b[0m\u001b[1;33m.\u001b[0m\u001b[0mvalues\u001b[0m\u001b[1;33m(\u001b[0m\u001b[1;33m)\u001b[0m\u001b[1;33m]\u001b[0m\u001b[1;33m,\u001b[0m\u001b[1;33m\u001b[0m\u001b[1;33m\u001b[0m\u001b[0m\n\u001b[0;32m     20\u001b[0m             \u001b[0mnode_color\u001b[0m\u001b[1;33m=\u001b[0m\u001b[1;34m'red'\u001b[0m\u001b[1;33m,\u001b[0m \u001b[0medge_color\u001b[0m\u001b[1;33m=\u001b[0m\u001b[1;34m'black'\u001b[0m\u001b[1;33m,\u001b[0m\u001b[1;33m\u001b[0m\u001b[1;33m\u001b[0m\u001b[0m\n\u001b[1;32m---> 21\u001b[1;33m             with_labels=True, font_weight='bold', alpha=0.75)\n\u001b[0m\u001b[0;32m     22\u001b[0m     \u001b[0mplt\u001b[0m\u001b[1;33m.\u001b[0m\u001b[0mshow\u001b[0m\u001b[1;33m(\u001b[0m\u001b[1;33m)\u001b[0m\u001b[1;33m\u001b[0m\u001b[1;33m\u001b[0m\u001b[0m\n\u001b[0;32m     23\u001b[0m \u001b[1;33m\u001b[0m\u001b[0m\n",
      "\u001b[1;32m~\\Anaconda3\\lib\\site-packages\\networkx\\drawing\\nx_pylab.py\u001b[0m in \u001b[0;36mdraw\u001b[1;34m(G, pos, ax, **kwds)\u001b[0m\n\u001b[0;32m    121\u001b[0m         \u001b[0mkwds\u001b[0m\u001b[1;33m[\u001b[0m\u001b[1;34m\"with_labels\"\u001b[0m\u001b[1;33m]\u001b[0m \u001b[1;33m=\u001b[0m \u001b[1;34m\"labels\"\u001b[0m \u001b[1;32min\u001b[0m \u001b[0mkwds\u001b[0m\u001b[1;33m\u001b[0m\u001b[1;33m\u001b[0m\u001b[0m\n\u001b[0;32m    122\u001b[0m \u001b[1;33m\u001b[0m\u001b[0m\n\u001b[1;32m--> 123\u001b[1;33m     \u001b[0mdraw_networkx\u001b[0m\u001b[1;33m(\u001b[0m\u001b[0mG\u001b[0m\u001b[1;33m,\u001b[0m \u001b[0mpos\u001b[0m\u001b[1;33m=\u001b[0m\u001b[0mpos\u001b[0m\u001b[1;33m,\u001b[0m \u001b[0max\u001b[0m\u001b[1;33m=\u001b[0m\u001b[0max\u001b[0m\u001b[1;33m,\u001b[0m \u001b[1;33m**\u001b[0m\u001b[0mkwds\u001b[0m\u001b[1;33m)\u001b[0m\u001b[1;33m\u001b[0m\u001b[1;33m\u001b[0m\u001b[0m\n\u001b[0m\u001b[0;32m    124\u001b[0m     \u001b[0max\u001b[0m\u001b[1;33m.\u001b[0m\u001b[0mset_axis_off\u001b[0m\u001b[1;33m(\u001b[0m\u001b[1;33m)\u001b[0m\u001b[1;33m\u001b[0m\u001b[1;33m\u001b[0m\u001b[0m\n\u001b[0;32m    125\u001b[0m     \u001b[0mplt\u001b[0m\u001b[1;33m.\u001b[0m\u001b[0mdraw_if_interactive\u001b[0m\u001b[1;33m(\u001b[0m\u001b[1;33m)\u001b[0m\u001b[1;33m\u001b[0m\u001b[1;33m\u001b[0m\u001b[0m\n",
      "\u001b[1;32m~\\Anaconda3\\lib\\site-packages\\networkx\\drawing\\nx_pylab.py\u001b[0m in \u001b[0;36mdraw_networkx\u001b[1;34m(G, pos, arrows, with_labels, **kwds)\u001b[0m\n\u001b[0;32m    333\u001b[0m         \u001b[0mpos\u001b[0m \u001b[1;33m=\u001b[0m \u001b[0mnx\u001b[0m\u001b[1;33m.\u001b[0m\u001b[0mdrawing\u001b[0m\u001b[1;33m.\u001b[0m\u001b[0mspring_layout\u001b[0m\u001b[1;33m(\u001b[0m\u001b[0mG\u001b[0m\u001b[1;33m)\u001b[0m  \u001b[1;31m# default to spring layout\u001b[0m\u001b[1;33m\u001b[0m\u001b[1;33m\u001b[0m\u001b[0m\n\u001b[0;32m    334\u001b[0m \u001b[1;33m\u001b[0m\u001b[0m\n\u001b[1;32m--> 335\u001b[1;33m     \u001b[0mdraw_networkx_nodes\u001b[0m\u001b[1;33m(\u001b[0m\u001b[0mG\u001b[0m\u001b[1;33m,\u001b[0m \u001b[0mpos\u001b[0m\u001b[1;33m,\u001b[0m \u001b[1;33m**\u001b[0m\u001b[0mnode_kwds\u001b[0m\u001b[1;33m)\u001b[0m\u001b[1;33m\u001b[0m\u001b[1;33m\u001b[0m\u001b[0m\n\u001b[0m\u001b[0;32m    336\u001b[0m     \u001b[0mdraw_networkx_edges\u001b[0m\u001b[1;33m(\u001b[0m\u001b[0mG\u001b[0m\u001b[1;33m,\u001b[0m \u001b[0mpos\u001b[0m\u001b[1;33m,\u001b[0m \u001b[0marrows\u001b[0m\u001b[1;33m=\u001b[0m\u001b[0marrows\u001b[0m\u001b[1;33m,\u001b[0m \u001b[1;33m**\u001b[0m\u001b[0medge_kwds\u001b[0m\u001b[1;33m)\u001b[0m\u001b[1;33m\u001b[0m\u001b[1;33m\u001b[0m\u001b[0m\n\u001b[0;32m    337\u001b[0m     \u001b[1;32mif\u001b[0m \u001b[0mwith_labels\u001b[0m\u001b[1;33m:\u001b[0m\u001b[1;33m\u001b[0m\u001b[1;33m\u001b[0m\u001b[0m\n",
      "\u001b[1;32m~\\Anaconda3\\lib\\site-packages\\networkx\\drawing\\nx_pylab.py\u001b[0m in \u001b[0;36mdraw_networkx_nodes\u001b[1;34m(G, pos, nodelist, node_size, node_color, node_shape, alpha, cmap, vmin, vmax, ax, linewidths, edgecolors, label)\u001b[0m\n\u001b[0;32m    456\u001b[0m         \u001b[0mxy\u001b[0m \u001b[1;33m=\u001b[0m \u001b[0mnp\u001b[0m\u001b[1;33m.\u001b[0m\u001b[0masarray\u001b[0m\u001b[1;33m(\u001b[0m\u001b[1;33m[\u001b[0m\u001b[0mpos\u001b[0m\u001b[1;33m[\u001b[0m\u001b[0mv\u001b[0m\u001b[1;33m]\u001b[0m \u001b[1;32mfor\u001b[0m \u001b[0mv\u001b[0m \u001b[1;32min\u001b[0m \u001b[0mnodelist\u001b[0m\u001b[1;33m]\u001b[0m\u001b[1;33m)\u001b[0m\u001b[1;33m\u001b[0m\u001b[1;33m\u001b[0m\u001b[0m\n\u001b[0;32m    457\u001b[0m     \u001b[1;32mexcept\u001b[0m \u001b[0mKeyError\u001b[0m \u001b[1;32mas\u001b[0m \u001b[0me\u001b[0m\u001b[1;33m:\u001b[0m\u001b[1;33m\u001b[0m\u001b[1;33m\u001b[0m\u001b[0m\n\u001b[1;32m--> 458\u001b[1;33m         \u001b[1;32mraise\u001b[0m \u001b[0mnx\u001b[0m\u001b[1;33m.\u001b[0m\u001b[0mNetworkXError\u001b[0m\u001b[1;33m(\u001b[0m\u001b[1;34mf\"Node {e} has no position.\"\u001b[0m\u001b[1;33m)\u001b[0m \u001b[1;32mfrom\u001b[0m \u001b[0me\u001b[0m\u001b[1;33m\u001b[0m\u001b[1;33m\u001b[0m\u001b[0m\n\u001b[0m\u001b[0;32m    459\u001b[0m     \u001b[1;32mexcept\u001b[0m \u001b[0mValueError\u001b[0m \u001b[1;32mas\u001b[0m \u001b[0me\u001b[0m\u001b[1;33m:\u001b[0m\u001b[1;33m\u001b[0m\u001b[1;33m\u001b[0m\u001b[0m\n\u001b[0;32m    460\u001b[0m         \u001b[1;32mraise\u001b[0m \u001b[0mnx\u001b[0m\u001b[1;33m.\u001b[0m\u001b[0mNetworkXError\u001b[0m\u001b[1;33m(\u001b[0m\u001b[1;34m\"Bad value in node positions.\"\u001b[0m\u001b[1;33m)\u001b[0m \u001b[1;32mfrom\u001b[0m \u001b[0me\u001b[0m\u001b[1;33m\u001b[0m\u001b[1;33m\u001b[0m\u001b[0m\n",
      "\u001b[1;31mNetworkXError\u001b[0m: Node 'K. Koulibaly' has no position."
     ]
    },
    {
     "data": {
      "image/png": "[encoded data removed]",
      "text/plain": [
       "<Figure size 432x288 with 1 Axes>"
      ]
     },
     "metadata": {},
     "output_type": "display_data"
    }
   ],
   "source": [
    "plot_passing_networks(G1, G2)"
   ]
  },
  {
   "cell_type": "code",
   "execution_count": null,
   "metadata": {},
   "outputs": [],
   "source": []
  }
 ],
 "metadata": {
  "kernelspec": {
   "display_name": "Python 3",
   "language": "python",
   "name": "python3"
  },
  "language_info": {
   "codemirror_mode": {
    "name": "ipython",
    "version": 3
   },
   "file_extension": ".py",
   "mimetype": "text/x-python",
   "name": "python",
   "nbconvert_exporter": "python",
   "pygments_lexer": "ipython3",
   "version": "3.7.3"
  }
 },
 "nbformat": 4,
 "nbformat_minor": 4
}
